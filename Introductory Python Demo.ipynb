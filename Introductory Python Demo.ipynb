{
  "nbformat": 4,
  "nbformat_minor": 0,
  "metadata": {
    "kernelspec": {
      "display_name": "Python 3",
      "language": "python",
      "name": "python3"
    },
    "language_info": {
      "codemirror_mode": {
        "name": "ipython",
        "version": 3
      },
      "file_extension": ".py",
      "mimetype": "text/x-python",
      "name": "python",
      "nbconvert_exporter": "python",
      "pygments_lexer": "ipython3",
      "version": "3.7.7"
    },
    "colab": {
      "name": "(Present) 0113 Python Demo_Completed.ipynb",
      "provenance": [],
      "collapsed_sections": []
    }
  },
  "cells": [
    {
      "cell_type": "markdown",
      "metadata": {
        "id": "X6bWR8814fD1"
      },
      "source": [
        "# Part 1: Basic Programming\n",
        "A Special thing to notice here that if you use `x//y`, it means integer division.\n",
        "\n",
        "\n",
        "All examples based on Hunter Schafer website: https://courses.cs.washington.edu/courses/cse163/20wi/"
      ]
    },
    {
      "cell_type": "code",
      "metadata": {
        "id": "tvutcct04fD4",
        "colab": {
          "base_uri": "https://localhost:8080/"
        },
        "outputId": "8e046580-15a2-4207-c4f1-5c09324ba282"
      },
      "source": [
        "x = 5 # integer\n",
        "y = 2.0\n",
        "z = \"Hello\"\n",
        "u = True\n",
        "\n",
        "print(x * y)\n",
        "print(x + y)\n",
        "print(x / y)\n",
        "print(x // y)"
      ],
      "execution_count": null,
      "outputs": [
        {
          "output_type": "stream",
          "text": [
            "10.0\n",
            "7.0\n",
            "2.5\n",
            "2.0\n"
          ],
          "name": "stdout"
        }
      ]
    },
    {
      "cell_type": "code",
      "metadata": {
        "id": "oZavAMJr4fEC"
      },
      "source": [
        "if x > 6:\n",
        "    print(x)\n",
        "elif y < 1:\n",
        "    print(y)"
      ],
      "execution_count": null,
      "outputs": []
    },
    {
      "cell_type": "markdown",
      "metadata": {
        "id": "nbIzPfRmd2Ea"
      },
      "source": [
        "#Loops"
      ]
    },
    {
      "cell_type": "code",
      "metadata": {
        "id": "IjvrplT44fEI",
        "colab": {
          "base_uri": "https://localhost:8080/"
        },
        "outputId": "4ff619ae-b448-49c6-a49a-d908a81d68fc"
      },
      "source": [
        "for i in range(1,5,2):\n",
        "    print(\"i equals\", i)"
      ],
      "execution_count": null,
      "outputs": [
        {
          "output_type": "stream",
          "text": [
            "i equals 1\n",
            "i equals 3\n"
          ],
          "name": "stdout"
        }
      ]
    },
    {
      "cell_type": "code",
      "metadata": {
        "id": "EKCy_mhD4fEU",
        "colab": {
          "base_uri": "https://localhost:8080/"
        },
        "outputId": "ad77b2d1-8706-4868-91d5-1a98294325c5"
      },
      "source": [
        "i = 0\n",
        "while i < 5:\n",
        "    print(\"i equals\", i)\n",
        "    i+=1 #i=i+1"
      ],
      "execution_count": null,
      "outputs": [
        {
          "output_type": "stream",
          "text": [
            "i equals 0\n",
            "i equals 1\n",
            "i equals 2\n",
            "i equals 3\n",
            "i equals 4\n"
          ],
          "name": "stdout"
        }
      ]
    },
    {
      "cell_type": "markdown",
      "metadata": {
        "id": "9_C0IG3C4fEZ"
      },
      "source": [
        "## Defining Function"
      ]
    },
    {
      "cell_type": "code",
      "metadata": {
        "id": "MWuQpUMr4fEa",
        "colab": {
          "base_uri": "https://localhost:8080/"
        },
        "outputId": "58239852-8312-49a5-d7dd-d2a039a2795e"
      },
      "source": [
        "def fib(n=2):\n",
        "    prev = 0\n",
        "    curr = 1\n",
        "    index = 1\n",
        "    while index < n:\n",
        "        temp = curr\n",
        "        curr += prev\n",
        "        prev = temp\n",
        "        index+=1\n",
        "    return curr\n",
        "print(fib())"
      ],
      "execution_count": null,
      "outputs": [
        {
          "output_type": "stream",
          "text": [
            "1\n"
          ],
          "name": "stdout"
        }
      ]
    },
    {
      "cell_type": "code",
      "metadata": {
        "id": "T7JOPXTOsiKn"
      },
      "source": [
        "# the hello function prints \"hello\" n times\n",
        "def hello(n=2):\n",
        "  for i in range(0,n):\n",
        "    print(\"hello\")"
      ],
      "execution_count": null,
      "outputs": []
    },
    {
      "cell_type": "code",
      "metadata": {
        "colab": {
          "base_uri": "https://localhost:8080/"
        },
        "id": "wOZaYln1s2Df",
        "outputId": "615dd9de-808f-459b-94c9-054c4d33313d"
      },
      "source": [
        "hello(5)"
      ],
      "execution_count": null,
      "outputs": [
        {
          "output_type": "stream",
          "text": [
            "hello\n",
            "hello\n",
            "hello\n",
            "hello\n",
            "hello\n"
          ],
          "name": "stdout"
        }
      ]
    },
    {
      "cell_type": "markdown",
      "metadata": {
        "id": "o4Udn4TBdwCY"
      },
      "source": [
        "Built-In min function"
      ]
    },
    {
      "cell_type": "code",
      "metadata": {
        "id": "kSgdqeSE4fEh",
        "colab": {
          "base_uri": "https://localhost:8080/"
        },
        "outputId": "20408cd3-2229-4459-8bf8-9bcd81d22b09"
      },
      "source": [
        "x = min(4, 8, 7)\n",
        "print(x)"
      ],
      "execution_count": null,
      "outputs": [
        {
          "output_type": "stream",
          "text": [
            "4\n"
          ],
          "name": "stdout"
        }
      ]
    },
    {
      "cell_type": "markdown",
      "metadata": {
        "id": "WGPzxpitdpkc"
      },
      "source": [
        "#String Concat Error"
      ]
    },
    {
      "cell_type": "code",
      "metadata": {
        "id": "IUYpiC6s4fEo",
        "colab": {
          "base_uri": "https://localhost:8080/"
        },
        "outputId": "f8a83e8d-1568-407e-8274-49398fb4be10"
      },
      "source": [
        "s = \"Hello!\"\n",
        "t = \"there\"\n",
        "x = 4\n",
        "print(s + t)\n",
        "print(s, t)\n",
        "print(s + str(x))"
      ],
      "execution_count": null,
      "outputs": [
        {
          "output_type": "stream",
          "text": [
            "Hello!there\n",
            "Hello! there\n",
            "Hello!4\n"
          ],
          "name": "stdout"
        }
      ]
    },
    {
      "cell_type": "markdown",
      "metadata": {
        "id": "AhrkXzHA4fEw"
      },
      "source": [
        "This is causing an error because x is of type `int`, but \"x is \" is a `str`"
      ]
    },
    {
      "cell_type": "markdown",
      "metadata": {
        "id": "GGNhxX_44fEx"
      },
      "source": [
        "# Part 2: Python Data Structure"
      ]
    },
    {
      "cell_type": "markdown",
      "metadata": {
        "id": "IrDD9JIY4fEy"
      },
      "source": [
        "## List"
      ]
    },
    {
      "cell_type": "code",
      "metadata": {
        "id": "DBgCBN9m4fEz",
        "colab": {
          "base_uri": "https://localhost:8080/"
        },
        "outputId": "c5353713-fcc3-4e68-c781-4a07671bdede"
      },
      "source": [
        "l = ['a','b','c'] # This is a list\n",
        "print(l)\n",
        "print(\"Type:\", type(l))\n",
        "\n",
        "#TODO: append, assign, for loop demonstration"
      ],
      "execution_count": null,
      "outputs": [
        {
          "output_type": "stream",
          "text": [
            "['a', 'b', 'c']\n",
            "Type: <class 'list'>\n"
          ],
          "name": "stdout"
        }
      ]
    },
    {
      "cell_type": "code",
      "metadata": {
        "colab": {
          "base_uri": "https://localhost:8080/"
        },
        "id": "JPd24bvHtiyV",
        "outputId": "bab427bd-03a1-4e13-cb72-a13f8538ecbe"
      },
      "source": [
        "l.append('d')\n",
        "print(l)"
      ],
      "execution_count": null,
      "outputs": [
        {
          "output_type": "stream",
          "text": [
            "['a', 'b', 'c', 'd']\n"
          ],
          "name": "stdout"
        }
      ]
    },
    {
      "cell_type": "code",
      "metadata": {
        "colab": {
          "base_uri": "https://localhost:8080/"
        },
        "id": "PeVXXxQCtsyW",
        "outputId": "fee30101-0c52-40d7-bfd1-05b5573ed89c"
      },
      "source": [
        "l[0] = 'e'\n",
        "print(l)\n",
        "len(l)"
      ],
      "execution_count": null,
      "outputs": [
        {
          "output_type": "stream",
          "text": [
            "['e', 'b', 'c', 'd']\n"
          ],
          "name": "stdout"
        },
        {
          "output_type": "execute_result",
          "data": {
            "text/plain": [
              "4"
            ]
          },
          "metadata": {
            "tags": []
          },
          "execution_count": 54
        }
      ]
    },
    {
      "cell_type": "code",
      "metadata": {
        "colab": {
          "base_uri": "https://localhost:8080/"
        },
        "id": "GTrmZpwZtyqA",
        "outputId": "20d90ae9-31a6-4306-df3e-2197565a2344"
      },
      "source": [
        "# Looping over the elements in the list\n",
        "# 1st way\n",
        "for i in range(len(l)):\n",
        "  print(l[i])"
      ],
      "execution_count": null,
      "outputs": [
        {
          "output_type": "stream",
          "text": [
            "e\n",
            "b\n",
            "c\n",
            "d\n"
          ],
          "name": "stdout"
        }
      ]
    },
    {
      "cell_type": "code",
      "metadata": {
        "colab": {
          "base_uri": "https://localhost:8080/"
        },
        "id": "g9RbR5NyuHlU",
        "outputId": "01138056-d14a-44fb-a5cc-dddb9462915e"
      },
      "source": [
        "for i in l:\n",
        "  print(i)"
      ],
      "execution_count": null,
      "outputs": [
        {
          "output_type": "stream",
          "text": [
            "e\n",
            "b\n",
            "c\n",
            "d\n"
          ],
          "name": "stdout"
        }
      ]
    },
    {
      "cell_type": "markdown",
      "metadata": {
        "id": "1t1LYFUh4fE4"
      },
      "source": [
        "## Tuple"
      ]
    },
    {
      "cell_type": "code",
      "metadata": {
        "id": "QO7GM-Gn4fE5",
        "colab": {
          "base_uri": "https://localhost:8080/"
        },
        "outputId": "d1afd196-21ab-49fd-c2e2-10214b68b420"
      },
      "source": [
        "t = ('a','b','c') # This is a tuple. It is like a list but immutable\n",
        "print(t)\n",
        "print(\"Type:\", type(t))\n",
        "\n",
        "a,b,c = t # a = t[0] so on\n",
        "print(a)"
      ],
      "execution_count": null,
      "outputs": [
        {
          "output_type": "stream",
          "text": [
            "('a', 'b', 'c')\n",
            "Type: <class 'tuple'>\n",
            "a\n"
          ],
          "name": "stdout"
        }
      ]
    },
    {
      "cell_type": "code",
      "metadata": {
        "id": "0VraHHfk4fE-",
        "colab": {
          "base_uri": "https://localhost:8080/",
          "height": 180
        },
        "outputId": "5fb5b4fb-6f5d-4b7a-cd3d-c94d0beb75d0"
      },
      "source": [
        "#TODO: Index assign error\n",
        "t[0] = 'd'"
      ],
      "execution_count": null,
      "outputs": [
        {
          "output_type": "error",
          "ename": "TypeError",
          "evalue": "ignored",
          "traceback": [
            "\u001b[0;31m---------------------------------------------------------------------------\u001b[0m",
            "\u001b[0;31mTypeError\u001b[0m                                 Traceback (most recent call last)",
            "\u001b[0;32m<ipython-input-61-e642439f7356>\u001b[0m in \u001b[0;36m<module>\u001b[0;34m()\u001b[0m\n\u001b[1;32m      1\u001b[0m \u001b[0;31m#TODO: Index assign error\u001b[0m\u001b[0;34m\u001b[0m\u001b[0;34m\u001b[0m\u001b[0;34m\u001b[0m\u001b[0m\n\u001b[0;32m----> 2\u001b[0;31m \u001b[0mt\u001b[0m\u001b[0;34m[\u001b[0m\u001b[0;36m0\u001b[0m\u001b[0;34m]\u001b[0m \u001b[0;34m=\u001b[0m \u001b[0;34m'd'\u001b[0m\u001b[0;34m\u001b[0m\u001b[0;34m\u001b[0m\u001b[0m\n\u001b[0m",
            "\u001b[0;31mTypeError\u001b[0m: 'tuple' object does not support item assignment"
          ]
        }
      ]
    },
    {
      "cell_type": "markdown",
      "metadata": {
        "id": "9VZx4Kwy4fFH"
      },
      "source": [
        "## Set"
      ]
    },
    {
      "cell_type": "code",
      "metadata": {
        "id": "s20t_1TM4fFJ",
        "colab": {
          "base_uri": "https://localhost:8080/"
        },
        "outputId": "61d3e911-50ff-4271-ebd6-e18785fd08b0"
      },
      "source": [
        "d = {'1', '1', '2'}\n",
        "print(d)\n",
        "print(\"Type:\", type(d))"
      ],
      "execution_count": null,
      "outputs": [
        {
          "output_type": "stream",
          "text": [
            "{'1', '2'}\n",
            "Type: <class 'set'>\n"
          ],
          "name": "stdout"
        }
      ]
    },
    {
      "cell_type": "code",
      "metadata": {
        "colab": {
          "base_uri": "https://localhost:8080/"
        },
        "id": "OlnNnJm3u461",
        "outputId": "bb872362-51e7-4772-b60a-1d3f6a1c790a"
      },
      "source": [
        "print('1' in d)"
      ],
      "execution_count": null,
      "outputs": [
        {
          "output_type": "stream",
          "text": [
            "True\n"
          ],
          "name": "stdout"
        }
      ]
    },
    {
      "cell_type": "markdown",
      "metadata": {
        "id": "t_NRMpev4fFV"
      },
      "source": [
        "## Dict"
      ]
    },
    {
      "cell_type": "code",
      "metadata": {
        "id": "4Un7NORC4fFW",
        "colab": {
          "base_uri": "https://localhost:8080/"
        },
        "outputId": "b7e24108-7b24-4e38-e304-d7b475bfc7e6"
      },
      "source": [
        "d = dict()\n",
        "d['1234567'] = \"Alan\"\n",
        "d['2345678'] = \"Dog\"\n",
        "d[123] = 456\n",
        "print(d)\n",
        "print(\"Type:\", type(d))"
      ],
      "execution_count": null,
      "outputs": [
        {
          "output_type": "stream",
          "text": [
            "{'1234567': 'Alan', '2345678': 'Dog', 123: 456}\n",
            "Type: <class 'dict'>\n"
          ],
          "name": "stdout"
        }
      ]
    },
    {
      "cell_type": "code",
      "metadata": {
        "colab": {
          "base_uri": "https://localhost:8080/"
        },
        "id": "v5Labpz_vt7t",
        "outputId": "c31f41f6-0e50-4e33-869f-b807fe1ad72a"
      },
      "source": [
        "for i in d.keys():\n",
        "  print(i)\n",
        "for i in d.values():\n",
        "  print(i)"
      ],
      "execution_count": null,
      "outputs": [
        {
          "output_type": "stream",
          "text": [
            "1234567\n",
            "2345678\n",
            "123\n"
          ],
          "name": "stdout"
        }
      ]
    },
    {
      "cell_type": "code",
      "metadata": {
        "colab": {
          "base_uri": "https://localhost:8080/"
        },
        "id": "mAYwsxujv2IE",
        "outputId": "77174b54-7e39-4d48-d51a-8342b9378741"
      },
      "source": [
        "for i in d.items():\n",
        "  print(i)"
      ],
      "execution_count": null,
      "outputs": [
        {
          "output_type": "stream",
          "text": [
            "('1234567', 'Alan')\n",
            "('2345678', 'Dog')\n",
            "(123, 456)\n"
          ],
          "name": "stdout"
        }
      ]
    },
    {
      "cell_type": "markdown",
      "metadata": {
        "id": "L9qmuDBq4fFk"
      },
      "source": [
        "# Part 3: Library"
      ]
    },
    {
      "cell_type": "code",
      "metadata": {
        "id": "gpLEs5V24fFl"
      },
      "source": [
        "import pandas as pd"
      ],
      "execution_count": null,
      "outputs": []
    },
    {
      "cell_type": "code",
      "metadata": {
        "id": "RX2KPPoa4fF8",
        "colab": {
          "base_uri": "https://localhost:8080/",
          "height": 107
        },
        "outputId": "d86e1bb7-f012-4664-a8bd-bfcf301f75bf"
      },
      "source": [
        "df = pd.DataFrame({'id':[1111111,2222222],\n",
        "                  'name':['Alan','Rita'],\n",
        "                  'AACUW_officer':[True, True]})\n",
        "df #dataframe"
      ],
      "execution_count": null,
      "outputs": [
        {
          "output_type": "execute_result",
          "data": {
            "text/html": [
              "<div>\n",
              "<style scoped>\n",
              "    .dataframe tbody tr th:only-of-type {\n",
              "        vertical-align: middle;\n",
              "    }\n",
              "\n",
              "    .dataframe tbody tr th {\n",
              "        vertical-align: top;\n",
              "    }\n",
              "\n",
              "    .dataframe thead th {\n",
              "        text-align: right;\n",
              "    }\n",
              "</style>\n",
              "<table border=\"1\" class=\"dataframe\">\n",
              "  <thead>\n",
              "    <tr style=\"text-align: right;\">\n",
              "      <th></th>\n",
              "      <th>id</th>\n",
              "      <th>name</th>\n",
              "      <th>AACUW_officer</th>\n",
              "    </tr>\n",
              "  </thead>\n",
              "  <tbody>\n",
              "    <tr>\n",
              "      <th>0</th>\n",
              "      <td>1111111</td>\n",
              "      <td>Alan</td>\n",
              "      <td>True</td>\n",
              "    </tr>\n",
              "    <tr>\n",
              "      <th>1</th>\n",
              "      <td>2222222</td>\n",
              "      <td>Rita</td>\n",
              "      <td>True</td>\n",
              "    </tr>\n",
              "  </tbody>\n",
              "</table>\n",
              "</div>"
            ],
            "text/plain": [
              "        id  name  AACUW_officer\n",
              "0  1111111  Alan           True\n",
              "1  2222222  Rita           True"
            ]
          },
          "metadata": {
            "tags": []
          },
          "execution_count": 75
        }
      ]
    },
    {
      "cell_type": "code",
      "metadata": {
        "id": "zssVO0184fGU",
        "colab": {
          "base_uri": "https://localhost:8080/",
          "height": 256
        },
        "outputId": "080c6527-adbe-4308-97d0-784d9f36a0d0"
      },
      "source": [
        "df = pd.read_csv('/content/sample_data/california_housing_train.csv')\n",
        "df.head(7)"
      ],
      "execution_count": null,
      "outputs": [
        {
          "output_type": "execute_result",
          "data": {
            "text/html": [
              "<div>\n",
              "<style scoped>\n",
              "    .dataframe tbody tr th:only-of-type {\n",
              "        vertical-align: middle;\n",
              "    }\n",
              "\n",
              "    .dataframe tbody tr th {\n",
              "        vertical-align: top;\n",
              "    }\n",
              "\n",
              "    .dataframe thead th {\n",
              "        text-align: right;\n",
              "    }\n",
              "</style>\n",
              "<table border=\"1\" class=\"dataframe\">\n",
              "  <thead>\n",
              "    <tr style=\"text-align: right;\">\n",
              "      <th></th>\n",
              "      <th>longitude</th>\n",
              "      <th>latitude</th>\n",
              "      <th>housing_median_age</th>\n",
              "      <th>total_rooms</th>\n",
              "      <th>total_bedrooms</th>\n",
              "      <th>population</th>\n",
              "      <th>households</th>\n",
              "      <th>median_income</th>\n",
              "      <th>median_house_value</th>\n",
              "    </tr>\n",
              "  </thead>\n",
              "  <tbody>\n",
              "    <tr>\n",
              "      <th>0</th>\n",
              "      <td>-114.31</td>\n",
              "      <td>34.19</td>\n",
              "      <td>15.0</td>\n",
              "      <td>5612.0</td>\n",
              "      <td>1283.0</td>\n",
              "      <td>1015.0</td>\n",
              "      <td>472.0</td>\n",
              "      <td>1.4936</td>\n",
              "      <td>66900.0</td>\n",
              "    </tr>\n",
              "    <tr>\n",
              "      <th>1</th>\n",
              "      <td>-114.47</td>\n",
              "      <td>34.40</td>\n",
              "      <td>19.0</td>\n",
              "      <td>7650.0</td>\n",
              "      <td>1901.0</td>\n",
              "      <td>1129.0</td>\n",
              "      <td>463.0</td>\n",
              "      <td>1.8200</td>\n",
              "      <td>80100.0</td>\n",
              "    </tr>\n",
              "    <tr>\n",
              "      <th>2</th>\n",
              "      <td>-114.56</td>\n",
              "      <td>33.69</td>\n",
              "      <td>17.0</td>\n",
              "      <td>720.0</td>\n",
              "      <td>174.0</td>\n",
              "      <td>333.0</td>\n",
              "      <td>117.0</td>\n",
              "      <td>1.6509</td>\n",
              "      <td>85700.0</td>\n",
              "    </tr>\n",
              "    <tr>\n",
              "      <th>3</th>\n",
              "      <td>-114.57</td>\n",
              "      <td>33.64</td>\n",
              "      <td>14.0</td>\n",
              "      <td>1501.0</td>\n",
              "      <td>337.0</td>\n",
              "      <td>515.0</td>\n",
              "      <td>226.0</td>\n",
              "      <td>3.1917</td>\n",
              "      <td>73400.0</td>\n",
              "    </tr>\n",
              "    <tr>\n",
              "      <th>4</th>\n",
              "      <td>-114.57</td>\n",
              "      <td>33.57</td>\n",
              "      <td>20.0</td>\n",
              "      <td>1454.0</td>\n",
              "      <td>326.0</td>\n",
              "      <td>624.0</td>\n",
              "      <td>262.0</td>\n",
              "      <td>1.9250</td>\n",
              "      <td>65500.0</td>\n",
              "    </tr>\n",
              "    <tr>\n",
              "      <th>5</th>\n",
              "      <td>-114.58</td>\n",
              "      <td>33.63</td>\n",
              "      <td>29.0</td>\n",
              "      <td>1387.0</td>\n",
              "      <td>236.0</td>\n",
              "      <td>671.0</td>\n",
              "      <td>239.0</td>\n",
              "      <td>3.3438</td>\n",
              "      <td>74000.0</td>\n",
              "    </tr>\n",
              "    <tr>\n",
              "      <th>6</th>\n",
              "      <td>-114.58</td>\n",
              "      <td>33.61</td>\n",
              "      <td>25.0</td>\n",
              "      <td>2907.0</td>\n",
              "      <td>680.0</td>\n",
              "      <td>1841.0</td>\n",
              "      <td>633.0</td>\n",
              "      <td>2.6768</td>\n",
              "      <td>82400.0</td>\n",
              "    </tr>\n",
              "  </tbody>\n",
              "</table>\n",
              "</div>"
            ],
            "text/plain": [
              "   longitude  latitude  ...  median_income  median_house_value\n",
              "0    -114.31     34.19  ...         1.4936             66900.0\n",
              "1    -114.47     34.40  ...         1.8200             80100.0\n",
              "2    -114.56     33.69  ...         1.6509             85700.0\n",
              "3    -114.57     33.64  ...         3.1917             73400.0\n",
              "4    -114.57     33.57  ...         1.9250             65500.0\n",
              "5    -114.58     33.63  ...         3.3438             74000.0\n",
              "6    -114.58     33.61  ...         2.6768             82400.0\n",
              "\n",
              "[7 rows x 9 columns]"
            ]
          },
          "metadata": {
            "tags": []
          },
          "execution_count": 76
        }
      ]
    },
    {
      "cell_type": "markdown",
      "metadata": {
        "id": "DFTfIpTwezsP"
      },
      "source": [
        "Series"
      ]
    },
    {
      "cell_type": "code",
      "metadata": {
        "colab": {
          "base_uri": "https://localhost:8080/"
        },
        "id": "prA4tswLeen9",
        "outputId": "2d13a3b1-1013-4806-8f1b-53fbc9d8e4be"
      },
      "source": [
        "#TODO: series of longitude\n",
        "type(df[\"longitude\"])"
      ],
      "execution_count": null,
      "outputs": [
        {
          "output_type": "execute_result",
          "data": {
            "text/plain": [
              "pandas.core.series.Series"
            ]
          },
          "metadata": {
            "tags": []
          },
          "execution_count": 78
        }
      ]
    },
    {
      "cell_type": "markdown",
      "metadata": {
        "id": "Z5T_96LtgTzU"
      },
      "source": [
        "##Task 1: Find all data with latitude greater than 34"
      ]
    },
    {
      "cell_type": "markdown",
      "metadata": {
        "id": "5IyN5FqDjDaq"
      },
      "source": [
        "Python syntax from here:[CSE 163 L7](https://docs.google.com/presentation/d/1XRMUkwn92jj8h3Xp-g2sQVRjC0pmVQwOkINrW_lr7b0/edit#slide=id.g82c3f04b37_0_34\n",
        ") and [CSE 163 L8](https://docs.google.com/presentation/d/1uVC4AiQAf_WmortfHZrphZKWarsjplXRqiBX3orUW6M/edit#slide=id.g838cd562d6_0_1)"
      ]
    },
    {
      "cell_type": "code",
      "metadata": {
        "colab": {
          "base_uri": "https://localhost:8080/",
          "height": 404
        },
        "id": "pbSGeLpMfCQb",
        "outputId": "b30793d4-c2b5-4f45-bfd3-48fa7e50a395"
      },
      "source": [
        "#TODO\n",
        "mask = df[\"latitude\"] > 34\n",
        "df[mask]"
      ],
      "execution_count": null,
      "outputs": [
        {
          "output_type": "execute_result",
          "data": {
            "text/html": [
              "<div>\n",
              "<style scoped>\n",
              "    .dataframe tbody tr th:only-of-type {\n",
              "        vertical-align: middle;\n",
              "    }\n",
              "\n",
              "    .dataframe tbody tr th {\n",
              "        vertical-align: top;\n",
              "    }\n",
              "\n",
              "    .dataframe thead th {\n",
              "        text-align: right;\n",
              "    }\n",
              "</style>\n",
              "<table border=\"1\" class=\"dataframe\">\n",
              "  <thead>\n",
              "    <tr style=\"text-align: right;\">\n",
              "      <th></th>\n",
              "      <th>longitude</th>\n",
              "      <th>latitude</th>\n",
              "      <th>housing_median_age</th>\n",
              "      <th>total_rooms</th>\n",
              "      <th>total_bedrooms</th>\n",
              "      <th>population</th>\n",
              "      <th>households</th>\n",
              "      <th>median_income</th>\n",
              "      <th>median_house_value</th>\n",
              "    </tr>\n",
              "  </thead>\n",
              "  <tbody>\n",
              "    <tr>\n",
              "      <th>0</th>\n",
              "      <td>-114.31</td>\n",
              "      <td>34.19</td>\n",
              "      <td>15.0</td>\n",
              "      <td>5612.0</td>\n",
              "      <td>1283.0</td>\n",
              "      <td>1015.0</td>\n",
              "      <td>472.0</td>\n",
              "      <td>1.4936</td>\n",
              "      <td>66900.0</td>\n",
              "    </tr>\n",
              "    <tr>\n",
              "      <th>1</th>\n",
              "      <td>-114.47</td>\n",
              "      <td>34.40</td>\n",
              "      <td>19.0</td>\n",
              "      <td>7650.0</td>\n",
              "      <td>1901.0</td>\n",
              "      <td>1129.0</td>\n",
              "      <td>463.0</td>\n",
              "      <td>1.8200</td>\n",
              "      <td>80100.0</td>\n",
              "    </tr>\n",
              "    <tr>\n",
              "      <th>7</th>\n",
              "      <td>-114.59</td>\n",
              "      <td>34.83</td>\n",
              "      <td>41.0</td>\n",
              "      <td>812.0</td>\n",
              "      <td>168.0</td>\n",
              "      <td>375.0</td>\n",
              "      <td>158.0</td>\n",
              "      <td>1.7083</td>\n",
              "      <td>48500.0</td>\n",
              "    </tr>\n",
              "    <tr>\n",
              "      <th>9</th>\n",
              "      <td>-114.60</td>\n",
              "      <td>34.83</td>\n",
              "      <td>46.0</td>\n",
              "      <td>1497.0</td>\n",
              "      <td>309.0</td>\n",
              "      <td>787.0</td>\n",
              "      <td>271.0</td>\n",
              "      <td>2.1908</td>\n",
              "      <td>48100.0</td>\n",
              "    </tr>\n",
              "    <tr>\n",
              "      <th>12</th>\n",
              "      <td>-114.61</td>\n",
              "      <td>34.84</td>\n",
              "      <td>48.0</td>\n",
              "      <td>1291.0</td>\n",
              "      <td>248.0</td>\n",
              "      <td>580.0</td>\n",
              "      <td>211.0</td>\n",
              "      <td>2.1571</td>\n",
              "      <td>48600.0</td>\n",
              "    </tr>\n",
              "    <tr>\n",
              "      <th>...</th>\n",
              "      <td>...</td>\n",
              "      <td>...</td>\n",
              "      <td>...</td>\n",
              "      <td>...</td>\n",
              "      <td>...</td>\n",
              "      <td>...</td>\n",
              "      <td>...</td>\n",
              "      <td>...</td>\n",
              "      <td>...</td>\n",
              "    </tr>\n",
              "    <tr>\n",
              "      <th>16995</th>\n",
              "      <td>-124.26</td>\n",
              "      <td>40.58</td>\n",
              "      <td>52.0</td>\n",
              "      <td>2217.0</td>\n",
              "      <td>394.0</td>\n",
              "      <td>907.0</td>\n",
              "      <td>369.0</td>\n",
              "      <td>2.3571</td>\n",
              "      <td>111400.0</td>\n",
              "    </tr>\n",
              "    <tr>\n",
              "      <th>16996</th>\n",
              "      <td>-124.27</td>\n",
              "      <td>40.69</td>\n",
              "      <td>36.0</td>\n",
              "      <td>2349.0</td>\n",
              "      <td>528.0</td>\n",
              "      <td>1194.0</td>\n",
              "      <td>465.0</td>\n",
              "      <td>2.5179</td>\n",
              "      <td>79000.0</td>\n",
              "    </tr>\n",
              "    <tr>\n",
              "      <th>16997</th>\n",
              "      <td>-124.30</td>\n",
              "      <td>41.84</td>\n",
              "      <td>17.0</td>\n",
              "      <td>2677.0</td>\n",
              "      <td>531.0</td>\n",
              "      <td>1244.0</td>\n",
              "      <td>456.0</td>\n",
              "      <td>3.0313</td>\n",
              "      <td>103600.0</td>\n",
              "    </tr>\n",
              "    <tr>\n",
              "      <th>16998</th>\n",
              "      <td>-124.30</td>\n",
              "      <td>41.80</td>\n",
              "      <td>19.0</td>\n",
              "      <td>2672.0</td>\n",
              "      <td>552.0</td>\n",
              "      <td>1298.0</td>\n",
              "      <td>478.0</td>\n",
              "      <td>1.9797</td>\n",
              "      <td>85800.0</td>\n",
              "    </tr>\n",
              "    <tr>\n",
              "      <th>16999</th>\n",
              "      <td>-124.35</td>\n",
              "      <td>40.54</td>\n",
              "      <td>52.0</td>\n",
              "      <td>1820.0</td>\n",
              "      <td>300.0</td>\n",
              "      <td>806.0</td>\n",
              "      <td>270.0</td>\n",
              "      <td>3.0147</td>\n",
              "      <td>94600.0</td>\n",
              "    </tr>\n",
              "  </tbody>\n",
              "</table>\n",
              "<p>11789 rows × 9 columns</p>\n",
              "</div>"
            ],
            "text/plain": [
              "       longitude  latitude  ...  median_income  median_house_value\n",
              "0        -114.31     34.19  ...         1.4936             66900.0\n",
              "1        -114.47     34.40  ...         1.8200             80100.0\n",
              "7        -114.59     34.83  ...         1.7083             48500.0\n",
              "9        -114.60     34.83  ...         2.1908             48100.0\n",
              "12       -114.61     34.84  ...         2.1571             48600.0\n",
              "...          ...       ...  ...            ...                 ...\n",
              "16995    -124.26     40.58  ...         2.3571            111400.0\n",
              "16996    -124.27     40.69  ...         2.5179             79000.0\n",
              "16997    -124.30     41.84  ...         3.0313            103600.0\n",
              "16998    -124.30     41.80  ...         1.9797             85800.0\n",
              "16999    -124.35     40.54  ...         3.0147             94600.0\n",
              "\n",
              "[11789 rows x 9 columns]"
            ]
          },
          "metadata": {
            "tags": []
          },
          "execution_count": 81
        }
      ]
    },
    {
      "cell_type": "markdown",
      "metadata": {
        "id": "Z0EP2WNggaQu"
      },
      "source": [
        "# Task 2: Find all data with longitude less than -120 and latitude less than or equal to 40"
      ]
    },
    {
      "cell_type": "code",
      "metadata": {
        "colab": {
          "base_uri": "https://localhost:8080/",
          "height": 404
        },
        "id": "W6FBe4VDfJQw",
        "outputId": "661bd376-f60e-4bec-8158-4996a1e43fff"
      },
      "source": [
        "#TODO\n",
        "longitude = df[\"longitude\"] < -120\n",
        "latitude = df[\"latitude\"] > 40\n",
        "df[longitude & ~latitude]"
      ],
      "execution_count": null,
      "outputs": [
        {
          "output_type": "execute_result",
          "data": {
            "text/html": [
              "<div>\n",
              "<style scoped>\n",
              "    .dataframe tbody tr th:only-of-type {\n",
              "        vertical-align: middle;\n",
              "    }\n",
              "\n",
              "    .dataframe tbody tr th {\n",
              "        vertical-align: top;\n",
              "    }\n",
              "\n",
              "    .dataframe thead th {\n",
              "        text-align: right;\n",
              "    }\n",
              "</style>\n",
              "<table border=\"1\" class=\"dataframe\">\n",
              "  <thead>\n",
              "    <tr style=\"text-align: right;\">\n",
              "      <th></th>\n",
              "      <th>longitude</th>\n",
              "      <th>latitude</th>\n",
              "      <th>housing_median_age</th>\n",
              "      <th>total_rooms</th>\n",
              "      <th>total_bedrooms</th>\n",
              "      <th>population</th>\n",
              "      <th>households</th>\n",
              "      <th>median_income</th>\n",
              "      <th>median_house_value</th>\n",
              "    </tr>\n",
              "  </thead>\n",
              "  <tbody>\n",
              "    <tr>\n",
              "      <th>10268</th>\n",
              "      <td>-120.01</td>\n",
              "      <td>39.26</td>\n",
              "      <td>26.0</td>\n",
              "      <td>1930.0</td>\n",
              "      <td>391.0</td>\n",
              "      <td>307.0</td>\n",
              "      <td>138.0</td>\n",
              "      <td>2.6023</td>\n",
              "      <td>139300.0</td>\n",
              "    </tr>\n",
              "    <tr>\n",
              "      <th>10269</th>\n",
              "      <td>-120.01</td>\n",
              "      <td>38.93</td>\n",
              "      <td>22.0</td>\n",
              "      <td>3080.0</td>\n",
              "      <td>610.0</td>\n",
              "      <td>1045.0</td>\n",
              "      <td>425.0</td>\n",
              "      <td>2.9960</td>\n",
              "      <td>126100.0</td>\n",
              "    </tr>\n",
              "    <tr>\n",
              "      <th>10270</th>\n",
              "      <td>-120.01</td>\n",
              "      <td>38.92</td>\n",
              "      <td>23.0</td>\n",
              "      <td>964.0</td>\n",
              "      <td>246.0</td>\n",
              "      <td>485.0</td>\n",
              "      <td>198.0</td>\n",
              "      <td>1.7188</td>\n",
              "      <td>96100.0</td>\n",
              "    </tr>\n",
              "    <tr>\n",
              "      <th>10271</th>\n",
              "      <td>-120.01</td>\n",
              "      <td>38.91</td>\n",
              "      <td>27.0</td>\n",
              "      <td>968.0</td>\n",
              "      <td>191.0</td>\n",
              "      <td>283.0</td>\n",
              "      <td>143.0</td>\n",
              "      <td>2.0938</td>\n",
              "      <td>94400.0</td>\n",
              "    </tr>\n",
              "    <tr>\n",
              "      <th>10272</th>\n",
              "      <td>-120.01</td>\n",
              "      <td>38.91</td>\n",
              "      <td>17.0</td>\n",
              "      <td>2732.0</td>\n",
              "      <td>609.0</td>\n",
              "      <td>1005.0</td>\n",
              "      <td>499.0</td>\n",
              "      <td>1.9851</td>\n",
              "      <td>86700.0</td>\n",
              "    </tr>\n",
              "    <tr>\n",
              "      <th>...</th>\n",
              "      <td>...</td>\n",
              "      <td>...</td>\n",
              "      <td>...</td>\n",
              "      <td>...</td>\n",
              "      <td>...</td>\n",
              "      <td>...</td>\n",
              "      <td>...</td>\n",
              "      <td>...</td>\n",
              "      <td>...</td>\n",
              "    </tr>\n",
              "    <tr>\n",
              "      <th>16879</th>\n",
              "      <td>-123.81</td>\n",
              "      <td>39.34</td>\n",
              "      <td>17.0</td>\n",
              "      <td>1981.0</td>\n",
              "      <td>371.0</td>\n",
              "      <td>773.0</td>\n",
              "      <td>325.0</td>\n",
              "      <td>3.1563</td>\n",
              "      <td>277000.0</td>\n",
              "    </tr>\n",
              "    <tr>\n",
              "      <th>16880</th>\n",
              "      <td>-123.81</td>\n",
              "      <td>39.31</td>\n",
              "      <td>23.0</td>\n",
              "      <td>2754.0</td>\n",
              "      <td>577.0</td>\n",
              "      <td>887.0</td>\n",
              "      <td>432.0</td>\n",
              "      <td>3.3654</td>\n",
              "      <td>225000.0</td>\n",
              "    </tr>\n",
              "    <tr>\n",
              "      <th>16885</th>\n",
              "      <td>-123.84</td>\n",
              "      <td>39.83</td>\n",
              "      <td>19.0</td>\n",
              "      <td>1461.0</td>\n",
              "      <td>340.0</td>\n",
              "      <td>515.0</td>\n",
              "      <td>227.0</td>\n",
              "      <td>1.5278</td>\n",
              "      <td>145800.0</td>\n",
              "    </tr>\n",
              "    <tr>\n",
              "      <th>16886</th>\n",
              "      <td>-123.84</td>\n",
              "      <td>39.46</td>\n",
              "      <td>47.0</td>\n",
              "      <td>1150.0</td>\n",
              "      <td>244.0</td>\n",
              "      <td>552.0</td>\n",
              "      <td>201.0</td>\n",
              "      <td>2.5192</td>\n",
              "      <td>110400.0</td>\n",
              "    </tr>\n",
              "    <tr>\n",
              "      <th>16888</th>\n",
              "      <td>-123.85</td>\n",
              "      <td>39.42</td>\n",
              "      <td>11.0</td>\n",
              "      <td>1804.0</td>\n",
              "      <td>506.0</td>\n",
              "      <td>895.0</td>\n",
              "      <td>451.0</td>\n",
              "      <td>1.7574</td>\n",
              "      <td>150000.0</td>\n",
              "    </tr>\n",
              "  </tbody>\n",
              "</table>\n",
              "<p>6394 rows × 9 columns</p>\n",
              "</div>"
            ],
            "text/plain": [
              "       longitude  latitude  ...  median_income  median_house_value\n",
              "10268    -120.01     39.26  ...         2.6023            139300.0\n",
              "10269    -120.01     38.93  ...         2.9960            126100.0\n",
              "10270    -120.01     38.92  ...         1.7188             96100.0\n",
              "10271    -120.01     38.91  ...         2.0938             94400.0\n",
              "10272    -120.01     38.91  ...         1.9851             86700.0\n",
              "...          ...       ...  ...            ...                 ...\n",
              "16879    -123.81     39.34  ...         3.1563            277000.0\n",
              "16880    -123.81     39.31  ...         3.3654            225000.0\n",
              "16885    -123.84     39.83  ...         1.5278            145800.0\n",
              "16886    -123.84     39.46  ...         2.5192            110400.0\n",
              "16888    -123.85     39.42  ...         1.7574            150000.0\n",
              "\n",
              "[6394 rows x 9 columns]"
            ]
          },
          "metadata": {
            "tags": []
          },
          "execution_count": 84
        }
      ]
    },
    {
      "cell_type": "markdown",
      "metadata": {
        "id": "OEITtlFugrwa"
      },
      "source": [
        "##Task 3: Find all median_house_values with population greater than 800"
      ]
    },
    {
      "cell_type": "code",
      "metadata": {
        "colab": {
          "base_uri": "https://localhost:8080/"
        },
        "id": "ZYcvEplGgPQ7",
        "outputId": "b8183052-24f5-40c0-f64b-1f244f2344f2"
      },
      "source": [
        "#TODO: use df.loc\n",
        "population = df[\"population\"] > 800\n",
        "df.loc[population, \"median_house_value\"]"
      ],
      "execution_count": null,
      "outputs": [
        {
          "output_type": "execute_result",
          "data": {
            "text/plain": [
              "0         66900.0\n",
              "1         80100.0\n",
              "6         82400.0\n",
              "8         58400.0\n",
              "10        86500.0\n",
              "           ...   \n",
              "16995    111400.0\n",
              "16996     79000.0\n",
              "16997    103600.0\n",
              "16998     85800.0\n",
              "16999     94600.0\n",
              "Name: median_house_value, Length: 12625, dtype: float64"
            ]
          },
          "metadata": {
            "tags": []
          },
          "execution_count": 87
        }
      ]
    },
    {
      "cell_type": "code",
      "metadata": {
        "colab": {
          "base_uri": "https://localhost:8080/",
          "height": 196
        },
        "id": "-1KOymHNyntj",
        "outputId": "b27896f8-a903-4073-d51b-d2aae9fa8928"
      },
      "source": [
        "df[population].head()"
      ],
      "execution_count": null,
      "outputs": [
        {
          "output_type": "execute_result",
          "data": {
            "text/html": [
              "<div>\n",
              "<style scoped>\n",
              "    .dataframe tbody tr th:only-of-type {\n",
              "        vertical-align: middle;\n",
              "    }\n",
              "\n",
              "    .dataframe tbody tr th {\n",
              "        vertical-align: top;\n",
              "    }\n",
              "\n",
              "    .dataframe thead th {\n",
              "        text-align: right;\n",
              "    }\n",
              "</style>\n",
              "<table border=\"1\" class=\"dataframe\">\n",
              "  <thead>\n",
              "    <tr style=\"text-align: right;\">\n",
              "      <th></th>\n",
              "      <th>longitude</th>\n",
              "      <th>latitude</th>\n",
              "      <th>housing_median_age</th>\n",
              "      <th>total_rooms</th>\n",
              "      <th>total_bedrooms</th>\n",
              "      <th>population</th>\n",
              "      <th>households</th>\n",
              "      <th>median_income</th>\n",
              "      <th>median_house_value</th>\n",
              "    </tr>\n",
              "  </thead>\n",
              "  <tbody>\n",
              "    <tr>\n",
              "      <th>0</th>\n",
              "      <td>-114.31</td>\n",
              "      <td>34.19</td>\n",
              "      <td>15.0</td>\n",
              "      <td>5612.0</td>\n",
              "      <td>1283.0</td>\n",
              "      <td>1015.0</td>\n",
              "      <td>472.0</td>\n",
              "      <td>1.4936</td>\n",
              "      <td>66900.0</td>\n",
              "    </tr>\n",
              "    <tr>\n",
              "      <th>1</th>\n",
              "      <td>-114.47</td>\n",
              "      <td>34.40</td>\n",
              "      <td>19.0</td>\n",
              "      <td>7650.0</td>\n",
              "      <td>1901.0</td>\n",
              "      <td>1129.0</td>\n",
              "      <td>463.0</td>\n",
              "      <td>1.8200</td>\n",
              "      <td>80100.0</td>\n",
              "    </tr>\n",
              "    <tr>\n",
              "      <th>6</th>\n",
              "      <td>-114.58</td>\n",
              "      <td>33.61</td>\n",
              "      <td>25.0</td>\n",
              "      <td>2907.0</td>\n",
              "      <td>680.0</td>\n",
              "      <td>1841.0</td>\n",
              "      <td>633.0</td>\n",
              "      <td>2.6768</td>\n",
              "      <td>82400.0</td>\n",
              "    </tr>\n",
              "    <tr>\n",
              "      <th>8</th>\n",
              "      <td>-114.59</td>\n",
              "      <td>33.61</td>\n",
              "      <td>34.0</td>\n",
              "      <td>4789.0</td>\n",
              "      <td>1175.0</td>\n",
              "      <td>3134.0</td>\n",
              "      <td>1056.0</td>\n",
              "      <td>2.1782</td>\n",
              "      <td>58400.0</td>\n",
              "    </tr>\n",
              "    <tr>\n",
              "      <th>10</th>\n",
              "      <td>-114.60</td>\n",
              "      <td>33.62</td>\n",
              "      <td>16.0</td>\n",
              "      <td>3741.0</td>\n",
              "      <td>801.0</td>\n",
              "      <td>2434.0</td>\n",
              "      <td>824.0</td>\n",
              "      <td>2.6797</td>\n",
              "      <td>86500.0</td>\n",
              "    </tr>\n",
              "  </tbody>\n",
              "</table>\n",
              "</div>"
            ],
            "text/plain": [
              "    longitude  latitude  ...  median_income  median_house_value\n",
              "0     -114.31     34.19  ...         1.4936             66900.0\n",
              "1     -114.47     34.40  ...         1.8200             80100.0\n",
              "6     -114.58     33.61  ...         2.6768             82400.0\n",
              "8     -114.59     33.61  ...         2.1782             58400.0\n",
              "10    -114.60     33.62  ...         2.6797             86500.0\n",
              "\n",
              "[5 rows x 9 columns]"
            ]
          },
          "metadata": {
            "tags": []
          },
          "execution_count": 89
        }
      ]
    },
    {
      "cell_type": "code",
      "metadata": {
        "colab": {
          "base_uri": "https://localhost:8080/",
          "height": 404
        },
        "id": "aezs9a0Vyq7y",
        "outputId": "9767c0aa-be9d-46b8-d47a-4bbe9e96862b"
      },
      "source": [
        "cols = [\"longitude\", \"latitude\", \"population\", \"median_house_value\"]\n",
        "df.loc[population, cols]"
      ],
      "execution_count": null,
      "outputs": [
        {
          "output_type": "execute_result",
          "data": {
            "text/html": [
              "<div>\n",
              "<style scoped>\n",
              "    .dataframe tbody tr th:only-of-type {\n",
              "        vertical-align: middle;\n",
              "    }\n",
              "\n",
              "    .dataframe tbody tr th {\n",
              "        vertical-align: top;\n",
              "    }\n",
              "\n",
              "    .dataframe thead th {\n",
              "        text-align: right;\n",
              "    }\n",
              "</style>\n",
              "<table border=\"1\" class=\"dataframe\">\n",
              "  <thead>\n",
              "    <tr style=\"text-align: right;\">\n",
              "      <th></th>\n",
              "      <th>longitude</th>\n",
              "      <th>latitude</th>\n",
              "      <th>population</th>\n",
              "      <th>median_house_value</th>\n",
              "    </tr>\n",
              "  </thead>\n",
              "  <tbody>\n",
              "    <tr>\n",
              "      <th>0</th>\n",
              "      <td>-114.31</td>\n",
              "      <td>34.19</td>\n",
              "      <td>1015.0</td>\n",
              "      <td>66900.0</td>\n",
              "    </tr>\n",
              "    <tr>\n",
              "      <th>1</th>\n",
              "      <td>-114.47</td>\n",
              "      <td>34.40</td>\n",
              "      <td>1129.0</td>\n",
              "      <td>80100.0</td>\n",
              "    </tr>\n",
              "    <tr>\n",
              "      <th>6</th>\n",
              "      <td>-114.58</td>\n",
              "      <td>33.61</td>\n",
              "      <td>1841.0</td>\n",
              "      <td>82400.0</td>\n",
              "    </tr>\n",
              "    <tr>\n",
              "      <th>8</th>\n",
              "      <td>-114.59</td>\n",
              "      <td>33.61</td>\n",
              "      <td>3134.0</td>\n",
              "      <td>58400.0</td>\n",
              "    </tr>\n",
              "    <tr>\n",
              "      <th>10</th>\n",
              "      <td>-114.60</td>\n",
              "      <td>33.62</td>\n",
              "      <td>2434.0</td>\n",
              "      <td>86500.0</td>\n",
              "    </tr>\n",
              "    <tr>\n",
              "      <th>...</th>\n",
              "      <td>...</td>\n",
              "      <td>...</td>\n",
              "      <td>...</td>\n",
              "      <td>...</td>\n",
              "    </tr>\n",
              "    <tr>\n",
              "      <th>16995</th>\n",
              "      <td>-124.26</td>\n",
              "      <td>40.58</td>\n",
              "      <td>907.0</td>\n",
              "      <td>111400.0</td>\n",
              "    </tr>\n",
              "    <tr>\n",
              "      <th>16996</th>\n",
              "      <td>-124.27</td>\n",
              "      <td>40.69</td>\n",
              "      <td>1194.0</td>\n",
              "      <td>79000.0</td>\n",
              "    </tr>\n",
              "    <tr>\n",
              "      <th>16997</th>\n",
              "      <td>-124.30</td>\n",
              "      <td>41.84</td>\n",
              "      <td>1244.0</td>\n",
              "      <td>103600.0</td>\n",
              "    </tr>\n",
              "    <tr>\n",
              "      <th>16998</th>\n",
              "      <td>-124.30</td>\n",
              "      <td>41.80</td>\n",
              "      <td>1298.0</td>\n",
              "      <td>85800.0</td>\n",
              "    </tr>\n",
              "    <tr>\n",
              "      <th>16999</th>\n",
              "      <td>-124.35</td>\n",
              "      <td>40.54</td>\n",
              "      <td>806.0</td>\n",
              "      <td>94600.0</td>\n",
              "    </tr>\n",
              "  </tbody>\n",
              "</table>\n",
              "<p>12625 rows × 4 columns</p>\n",
              "</div>"
            ],
            "text/plain": [
              "       longitude  latitude  population  median_house_value\n",
              "0        -114.31     34.19      1015.0             66900.0\n",
              "1        -114.47     34.40      1129.0             80100.0\n",
              "6        -114.58     33.61      1841.0             82400.0\n",
              "8        -114.59     33.61      3134.0             58400.0\n",
              "10       -114.60     33.62      2434.0             86500.0\n",
              "...          ...       ...         ...                 ...\n",
              "16995    -124.26     40.58       907.0            111400.0\n",
              "16996    -124.27     40.69      1194.0             79000.0\n",
              "16997    -124.30     41.84      1244.0            103600.0\n",
              "16998    -124.30     41.80      1298.0             85800.0\n",
              "16999    -124.35     40.54       806.0             94600.0\n",
              "\n",
              "[12625 rows x 4 columns]"
            ]
          },
          "metadata": {
            "tags": []
          },
          "execution_count": 91
        }
      ]
    },
    {
      "cell_type": "markdown",
      "metadata": {
        "id": "Kkyd22EHh0He"
      },
      "source": [
        "##Task 4: Find the average median_house_value for each housing_median_age"
      ]
    },
    {
      "cell_type": "markdown",
      "metadata": {
        "id": "m9XsczVyijql"
      },
      "source": [
        "Aggregate function: sum(), mean(), median(), min(), and max()\n",
        "https://jakevdp.github.io/PythonDataScienceHandbook/03.08-aggregation-and-grouping.html"
      ]
    },
    {
      "cell_type": "code",
      "metadata": {
        "id": "34NWRSghhqPA",
        "colab": {
          "base_uri": "https://localhost:8080/"
        },
        "outputId": "192345fc-efcc-4f26-99d7-c55cc192853e"
      },
      "source": [
        "#TODO: use groupby\n",
        "df.groupby('housing_median_age')['median_house_value'].max()"
      ],
      "execution_count": null,
      "outputs": [
        {
          "output_type": "execute_result",
          "data": {
            "text/plain": [
              "housing_median_age\n",
              "1.0     191300.0\n",
              "2.0     500001.0\n",
              "3.0     500001.0\n",
              "4.0     500001.0\n",
              "5.0     500001.0\n",
              "6.0     500001.0\n",
              "7.0     500001.0\n",
              "8.0     500001.0\n",
              "9.0     500001.0\n",
              "10.0    500001.0\n",
              "11.0    500001.0\n",
              "12.0    500001.0\n",
              "13.0    500001.0\n",
              "14.0    500001.0\n",
              "15.0    500001.0\n",
              "16.0    500001.0\n",
              "17.0    500001.0\n",
              "18.0    500001.0\n",
              "19.0    500001.0\n",
              "20.0    500001.0\n",
              "21.0    500001.0\n",
              "22.0    500001.0\n",
              "23.0    500001.0\n",
              "24.0    500001.0\n",
              "25.0    500001.0\n",
              "26.0    500001.0\n",
              "27.0    500001.0\n",
              "28.0    500001.0\n",
              "29.0    500001.0\n",
              "30.0    500001.0\n",
              "31.0    500001.0\n",
              "32.0    500001.0\n",
              "33.0    500001.0\n",
              "34.0    500001.0\n",
              "35.0    500001.0\n",
              "36.0    500001.0\n",
              "37.0    500001.0\n",
              "38.0    500001.0\n",
              "39.0    500001.0\n",
              "40.0    500001.0\n",
              "41.0    500001.0\n",
              "42.0    500001.0\n",
              "43.0    500001.0\n",
              "44.0    500001.0\n",
              "45.0    500001.0\n",
              "46.0    500001.0\n",
              "47.0    500001.0\n",
              "48.0    500001.0\n",
              "49.0    500001.0\n",
              "50.0    500001.0\n",
              "51.0    500001.0\n",
              "52.0    500001.0\n",
              "Name: median_house_value, dtype: float64"
            ]
          },
          "metadata": {
            "tags": []
          },
          "execution_count": 95
        }
      ]
    },
    {
      "cell_type": "markdown",
      "metadata": {
        "id": "c8DraK55jiGF"
      },
      "source": [
        "##Final Task: Sort the entire data by housing_median_age"
      ]
    },
    {
      "cell_type": "code",
      "metadata": {
        "id": "XgWX9g4fi5Hn"
      },
      "source": [
        "#TODO: use df.sort_values\n",
        "sorted_df = df.sort_values('housing_median_age')"
      ],
      "execution_count": null,
      "outputs": []
    },
    {
      "cell_type": "code",
      "metadata": {
        "colab": {
          "base_uri": "https://localhost:8080/",
          "height": 404
        },
        "id": "9GiGAZL9zsbK",
        "outputId": "8d76e001-30e0-4a67-e532-2aece437c7a5"
      },
      "source": [
        "sorted_df"
      ],
      "execution_count": null,
      "outputs": [
        {
          "output_type": "execute_result",
          "data": {
            "text/html": [
              "<div>\n",
              "<style scoped>\n",
              "    .dataframe tbody tr th:only-of-type {\n",
              "        vertical-align: middle;\n",
              "    }\n",
              "\n",
              "    .dataframe tbody tr th {\n",
              "        vertical-align: top;\n",
              "    }\n",
              "\n",
              "    .dataframe thead th {\n",
              "        text-align: right;\n",
              "    }\n",
              "</style>\n",
              "<table border=\"1\" class=\"dataframe\">\n",
              "  <thead>\n",
              "    <tr style=\"text-align: right;\">\n",
              "      <th></th>\n",
              "      <th>longitude</th>\n",
              "      <th>latitude</th>\n",
              "      <th>housing_median_age</th>\n",
              "      <th>total_rooms</th>\n",
              "      <th>total_bedrooms</th>\n",
              "      <th>population</th>\n",
              "      <th>households</th>\n",
              "      <th>median_income</th>\n",
              "      <th>median_house_value</th>\n",
              "    </tr>\n",
              "  </thead>\n",
              "  <tbody>\n",
              "    <tr>\n",
              "      <th>13708</th>\n",
              "      <td>-122.00</td>\n",
              "      <td>38.23</td>\n",
              "      <td>1.0</td>\n",
              "      <td>2062.0</td>\n",
              "      <td>343.0</td>\n",
              "      <td>872.0</td>\n",
              "      <td>268.0</td>\n",
              "      <td>5.2636</td>\n",
              "      <td>191300.0</td>\n",
              "    </tr>\n",
              "    <tr>\n",
              "      <th>10993</th>\n",
              "      <td>-120.93</td>\n",
              "      <td>37.65</td>\n",
              "      <td>1.0</td>\n",
              "      <td>2254.0</td>\n",
              "      <td>328.0</td>\n",
              "      <td>402.0</td>\n",
              "      <td>112.0</td>\n",
              "      <td>4.2500</td>\n",
              "      <td>189200.0</td>\n",
              "    </tr>\n",
              "    <tr>\n",
              "      <th>1353</th>\n",
              "      <td>-117.17</td>\n",
              "      <td>34.12</td>\n",
              "      <td>2.0</td>\n",
              "      <td>3867.0</td>\n",
              "      <td>573.0</td>\n",
              "      <td>1275.0</td>\n",
              "      <td>433.0</td>\n",
              "      <td>5.4138</td>\n",
              "      <td>164400.0</td>\n",
              "    </tr>\n",
              "    <tr>\n",
              "      <th>8765</th>\n",
              "      <td>-118.61</td>\n",
              "      <td>34.38</td>\n",
              "      <td>2.0</td>\n",
              "      <td>5989.0</td>\n",
              "      <td>883.0</td>\n",
              "      <td>1787.0</td>\n",
              "      <td>613.0</td>\n",
              "      <td>6.6916</td>\n",
              "      <td>329500.0</td>\n",
              "    </tr>\n",
              "    <tr>\n",
              "      <th>8672</th>\n",
              "      <td>-118.56</td>\n",
              "      <td>34.42</td>\n",
              "      <td>2.0</td>\n",
              "      <td>966.0</td>\n",
              "      <td>270.0</td>\n",
              "      <td>233.0</td>\n",
              "      <td>169.0</td>\n",
              "      <td>1.9667</td>\n",
              "      <td>450000.0</td>\n",
              "    </tr>\n",
              "    <tr>\n",
              "      <th>...</th>\n",
              "      <td>...</td>\n",
              "      <td>...</td>\n",
              "      <td>...</td>\n",
              "      <td>...</td>\n",
              "      <td>...</td>\n",
              "      <td>...</td>\n",
              "      <td>...</td>\n",
              "      <td>...</td>\n",
              "      <td>...</td>\n",
              "    </tr>\n",
              "    <tr>\n",
              "      <th>15193</th>\n",
              "      <td>-122.27</td>\n",
              "      <td>37.89</td>\n",
              "      <td>52.0</td>\n",
              "      <td>2640.0</td>\n",
              "      <td>366.0</td>\n",
              "      <td>973.0</td>\n",
              "      <td>355.0</td>\n",
              "      <td>7.2660</td>\n",
              "      <td>371100.0</td>\n",
              "    </tr>\n",
              "    <tr>\n",
              "      <th>15192</th>\n",
              "      <td>-122.27</td>\n",
              "      <td>37.89</td>\n",
              "      <td>52.0</td>\n",
              "      <td>3046.0</td>\n",
              "      <td>373.0</td>\n",
              "      <td>975.0</td>\n",
              "      <td>365.0</td>\n",
              "      <td>8.8342</td>\n",
              "      <td>430500.0</td>\n",
              "    </tr>\n",
              "    <tr>\n",
              "      <th>15190</th>\n",
              "      <td>-122.27</td>\n",
              "      <td>37.90</td>\n",
              "      <td>52.0</td>\n",
              "      <td>1803.0</td>\n",
              "      <td>240.0</td>\n",
              "      <td>572.0</td>\n",
              "      <td>236.0</td>\n",
              "      <td>6.1740</td>\n",
              "      <td>358800.0</td>\n",
              "    </tr>\n",
              "    <tr>\n",
              "      <th>15209</th>\n",
              "      <td>-122.27</td>\n",
              "      <td>37.85</td>\n",
              "      <td>52.0</td>\n",
              "      <td>1974.0</td>\n",
              "      <td>426.0</td>\n",
              "      <td>875.0</td>\n",
              "      <td>363.0</td>\n",
              "      <td>1.5817</td>\n",
              "      <td>153600.0</td>\n",
              "    </tr>\n",
              "    <tr>\n",
              "      <th>16999</th>\n",
              "      <td>-124.35</td>\n",
              "      <td>40.54</td>\n",
              "      <td>52.0</td>\n",
              "      <td>1820.0</td>\n",
              "      <td>300.0</td>\n",
              "      <td>806.0</td>\n",
              "      <td>270.0</td>\n",
              "      <td>3.0147</td>\n",
              "      <td>94600.0</td>\n",
              "    </tr>\n",
              "  </tbody>\n",
              "</table>\n",
              "<p>17000 rows × 9 columns</p>\n",
              "</div>"
            ],
            "text/plain": [
              "       longitude  latitude  ...  median_income  median_house_value\n",
              "13708    -122.00     38.23  ...         5.2636            191300.0\n",
              "10993    -120.93     37.65  ...         4.2500            189200.0\n",
              "1353     -117.17     34.12  ...         5.4138            164400.0\n",
              "8765     -118.61     34.38  ...         6.6916            329500.0\n",
              "8672     -118.56     34.42  ...         1.9667            450000.0\n",
              "...          ...       ...  ...            ...                 ...\n",
              "15193    -122.27     37.89  ...         7.2660            371100.0\n",
              "15192    -122.27     37.89  ...         8.8342            430500.0\n",
              "15190    -122.27     37.90  ...         6.1740            358800.0\n",
              "15209    -122.27     37.85  ...         1.5817            153600.0\n",
              "16999    -124.35     40.54  ...         3.0147             94600.0\n",
              "\n",
              "[17000 rows x 9 columns]"
            ]
          },
          "metadata": {
            "tags": []
          },
          "execution_count": 100
        }
      ]
    },
    {
      "cell_type": "code",
      "metadata": {
        "colab": {
          "base_uri": "https://localhost:8080/",
          "height": 644
        },
        "id": "p5aB6DXDjx_7",
        "outputId": "90161153-bb7c-46a9-c1b0-82740616f9cc"
      },
      "source": [
        "# demonstrate df.nlargest\n",
        "df.nlargest(20, 'housing_median_age')"
      ],
      "execution_count": null,
      "outputs": [
        {
          "output_type": "execute_result",
          "data": {
            "text/html": [
              "<div>\n",
              "<style scoped>\n",
              "    .dataframe tbody tr th:only-of-type {\n",
              "        vertical-align: middle;\n",
              "    }\n",
              "\n",
              "    .dataframe tbody tr th {\n",
              "        vertical-align: top;\n",
              "    }\n",
              "\n",
              "    .dataframe thead th {\n",
              "        text-align: right;\n",
              "    }\n",
              "</style>\n",
              "<table border=\"1\" class=\"dataframe\">\n",
              "  <thead>\n",
              "    <tr style=\"text-align: right;\">\n",
              "      <th></th>\n",
              "      <th>longitude</th>\n",
              "      <th>latitude</th>\n",
              "      <th>housing_median_age</th>\n",
              "      <th>total_rooms</th>\n",
              "      <th>total_bedrooms</th>\n",
              "      <th>population</th>\n",
              "      <th>households</th>\n",
              "      <th>median_income</th>\n",
              "      <th>median_house_value</th>\n",
              "    </tr>\n",
              "  </thead>\n",
              "  <tbody>\n",
              "    <tr>\n",
              "      <th>325</th>\n",
              "      <td>-116.88</td>\n",
              "      <td>34.08</td>\n",
              "      <td>52.0</td>\n",
              "      <td>3419.0</td>\n",
              "      <td>777.0</td>\n",
              "      <td>710.0</td>\n",
              "      <td>265.0</td>\n",
              "      <td>3.9028</td>\n",
              "      <td>128600.0</td>\n",
              "    </tr>\n",
              "    <tr>\n",
              "      <th>1011</th>\n",
              "      <td>-117.10</td>\n",
              "      <td>32.76</td>\n",
              "      <td>52.0</td>\n",
              "      <td>2606.0</td>\n",
              "      <td>426.0</td>\n",
              "      <td>883.0</td>\n",
              "      <td>380.0</td>\n",
              "      <td>4.2813</td>\n",
              "      <td>270800.0</td>\n",
              "    </tr>\n",
              "    <tr>\n",
              "      <th>1074</th>\n",
              "      <td>-117.11</td>\n",
              "      <td>32.77</td>\n",
              "      <td>52.0</td>\n",
              "      <td>1506.0</td>\n",
              "      <td>233.0</td>\n",
              "      <td>478.0</td>\n",
              "      <td>240.0</td>\n",
              "      <td>4.3875</td>\n",
              "      <td>300000.0</td>\n",
              "    </tr>\n",
              "    <tr>\n",
              "      <th>1075</th>\n",
              "      <td>-117.11</td>\n",
              "      <td>32.77</td>\n",
              "      <td>52.0</td>\n",
              "      <td>1484.0</td>\n",
              "      <td>224.0</td>\n",
              "      <td>498.0</td>\n",
              "      <td>223.0</td>\n",
              "      <td>6.6053</td>\n",
              "      <td>331400.0</td>\n",
              "    </tr>\n",
              "    <tr>\n",
              "      <th>1103</th>\n",
              "      <td>-117.11</td>\n",
              "      <td>32.67</td>\n",
              "      <td>52.0</td>\n",
              "      <td>280.0</td>\n",
              "      <td>71.0</td>\n",
              "      <td>217.0</td>\n",
              "      <td>71.0</td>\n",
              "      <td>1.4844</td>\n",
              "      <td>83300.0</td>\n",
              "    </tr>\n",
              "    <tr>\n",
              "      <th>1104</th>\n",
              "      <td>-117.11</td>\n",
              "      <td>32.67</td>\n",
              "      <td>52.0</td>\n",
              "      <td>204.0</td>\n",
              "      <td>74.0</td>\n",
              "      <td>248.0</td>\n",
              "      <td>57.0</td>\n",
              "      <td>1.7961</td>\n",
              "      <td>47500.0</td>\n",
              "    </tr>\n",
              "    <tr>\n",
              "      <th>1146</th>\n",
              "      <td>-117.12</td>\n",
              "      <td>32.74</td>\n",
              "      <td>52.0</td>\n",
              "      <td>1969.0</td>\n",
              "      <td>389.0</td>\n",
              "      <td>877.0</td>\n",
              "      <td>424.0</td>\n",
              "      <td>3.7900</td>\n",
              "      <td>163400.0</td>\n",
              "    </tr>\n",
              "    <tr>\n",
              "      <th>1202</th>\n",
              "      <td>-117.13</td>\n",
              "      <td>32.74</td>\n",
              "      <td>52.0</td>\n",
              "      <td>1512.0</td>\n",
              "      <td>321.0</td>\n",
              "      <td>651.0</td>\n",
              "      <td>321.0</td>\n",
              "      <td>3.6852</td>\n",
              "      <td>185300.0</td>\n",
              "    </tr>\n",
              "    <tr>\n",
              "      <th>1205</th>\n",
              "      <td>-117.13</td>\n",
              "      <td>32.73</td>\n",
              "      <td>52.0</td>\n",
              "      <td>2676.0</td>\n",
              "      <td>557.0</td>\n",
              "      <td>1181.0</td>\n",
              "      <td>537.0</td>\n",
              "      <td>3.6058</td>\n",
              "      <td>213100.0</td>\n",
              "    </tr>\n",
              "    <tr>\n",
              "      <th>1206</th>\n",
              "      <td>-117.13</td>\n",
              "      <td>32.73</td>\n",
              "      <td>52.0</td>\n",
              "      <td>1911.0</td>\n",
              "      <td>415.0</td>\n",
              "      <td>777.0</td>\n",
              "      <td>412.0</td>\n",
              "      <td>2.2429</td>\n",
              "      <td>221100.0</td>\n",
              "    </tr>\n",
              "    <tr>\n",
              "      <th>1207</th>\n",
              "      <td>-117.13</td>\n",
              "      <td>32.73</td>\n",
              "      <td>52.0</td>\n",
              "      <td>1148.0</td>\n",
              "      <td>214.0</td>\n",
              "      <td>481.0</td>\n",
              "      <td>215.0</td>\n",
              "      <td>5.4540</td>\n",
              "      <td>240900.0</td>\n",
              "    </tr>\n",
              "    <tr>\n",
              "      <th>1210</th>\n",
              "      <td>-117.13</td>\n",
              "      <td>32.72</td>\n",
              "      <td>52.0</td>\n",
              "      <td>1560.0</td>\n",
              "      <td>307.0</td>\n",
              "      <td>757.0</td>\n",
              "      <td>315.0</td>\n",
              "      <td>2.7083</td>\n",
              "      <td>199100.0</td>\n",
              "    </tr>\n",
              "    <tr>\n",
              "      <th>1268</th>\n",
              "      <td>-117.14</td>\n",
              "      <td>32.71</td>\n",
              "      <td>52.0</td>\n",
              "      <td>979.0</td>\n",
              "      <td>314.0</td>\n",
              "      <td>975.0</td>\n",
              "      <td>297.0</td>\n",
              "      <td>1.2375</td>\n",
              "      <td>100000.0</td>\n",
              "    </tr>\n",
              "    <tr>\n",
              "      <th>1269</th>\n",
              "      <td>-117.14</td>\n",
              "      <td>32.71</td>\n",
              "      <td>52.0</td>\n",
              "      <td>800.0</td>\n",
              "      <td>313.0</td>\n",
              "      <td>1337.0</td>\n",
              "      <td>282.0</td>\n",
              "      <td>1.5594</td>\n",
              "      <td>87500.0</td>\n",
              "    </tr>\n",
              "    <tr>\n",
              "      <th>1270</th>\n",
              "      <td>-117.14</td>\n",
              "      <td>32.71</td>\n",
              "      <td>52.0</td>\n",
              "      <td>1225.0</td>\n",
              "      <td>332.0</td>\n",
              "      <td>955.0</td>\n",
              "      <td>321.0</td>\n",
              "      <td>1.6011</td>\n",
              "      <td>106300.0</td>\n",
              "    </tr>\n",
              "    <tr>\n",
              "      <th>1309</th>\n",
              "      <td>-117.15</td>\n",
              "      <td>32.72</td>\n",
              "      <td>52.0</td>\n",
              "      <td>344.0</td>\n",
              "      <td>177.0</td>\n",
              "      <td>460.0</td>\n",
              "      <td>147.0</td>\n",
              "      <td>1.2292</td>\n",
              "      <td>137500.0</td>\n",
              "    </tr>\n",
              "    <tr>\n",
              "      <th>1311</th>\n",
              "      <td>-117.15</td>\n",
              "      <td>32.71</td>\n",
              "      <td>52.0</td>\n",
              "      <td>402.0</td>\n",
              "      <td>183.0</td>\n",
              "      <td>557.0</td>\n",
              "      <td>172.0</td>\n",
              "      <td>1.3125</td>\n",
              "      <td>87500.0</td>\n",
              "    </tr>\n",
              "    <tr>\n",
              "      <th>1312</th>\n",
              "      <td>-117.15</td>\n",
              "      <td>32.71</td>\n",
              "      <td>52.0</td>\n",
              "      <td>217.0</td>\n",
              "      <td>82.0</td>\n",
              "      <td>531.0</td>\n",
              "      <td>93.0</td>\n",
              "      <td>1.6607</td>\n",
              "      <td>137500.0</td>\n",
              "    </tr>\n",
              "    <tr>\n",
              "      <th>1313</th>\n",
              "      <td>-117.15</td>\n",
              "      <td>32.70</td>\n",
              "      <td>52.0</td>\n",
              "      <td>458.0</td>\n",
              "      <td>148.0</td>\n",
              "      <td>1283.0</td>\n",
              "      <td>166.0</td>\n",
              "      <td>1.2863</td>\n",
              "      <td>86300.0</td>\n",
              "    </tr>\n",
              "    <tr>\n",
              "      <th>1338</th>\n",
              "      <td>-117.16</td>\n",
              "      <td>32.74</td>\n",
              "      <td>52.0</td>\n",
              "      <td>852.0</td>\n",
              "      <td>262.0</td>\n",
              "      <td>389.0</td>\n",
              "      <td>249.0</td>\n",
              "      <td>2.6042</td>\n",
              "      <td>225000.0</td>\n",
              "    </tr>\n",
              "  </tbody>\n",
              "</table>\n",
              "</div>"
            ],
            "text/plain": [
              "      longitude  latitude  ...  median_income  median_house_value\n",
              "325     -116.88     34.08  ...         3.9028            128600.0\n",
              "1011    -117.10     32.76  ...         4.2813            270800.0\n",
              "1074    -117.11     32.77  ...         4.3875            300000.0\n",
              "1075    -117.11     32.77  ...         6.6053            331400.0\n",
              "1103    -117.11     32.67  ...         1.4844             83300.0\n",
              "1104    -117.11     32.67  ...         1.7961             47500.0\n",
              "1146    -117.12     32.74  ...         3.7900            163400.0\n",
              "1202    -117.13     32.74  ...         3.6852            185300.0\n",
              "1205    -117.13     32.73  ...         3.6058            213100.0\n",
              "1206    -117.13     32.73  ...         2.2429            221100.0\n",
              "1207    -117.13     32.73  ...         5.4540            240900.0\n",
              "1210    -117.13     32.72  ...         2.7083            199100.0\n",
              "1268    -117.14     32.71  ...         1.2375            100000.0\n",
              "1269    -117.14     32.71  ...         1.5594             87500.0\n",
              "1270    -117.14     32.71  ...         1.6011            106300.0\n",
              "1309    -117.15     32.72  ...         1.2292            137500.0\n",
              "1311    -117.15     32.71  ...         1.3125             87500.0\n",
              "1312    -117.15     32.71  ...         1.6607            137500.0\n",
              "1313    -117.15     32.70  ...         1.2863             86300.0\n",
              "1338    -117.16     32.74  ...         2.6042            225000.0\n",
              "\n",
              "[20 rows x 9 columns]"
            ]
          },
          "metadata": {
            "tags": []
          },
          "execution_count": 101
        }
      ]
    }
  ]
}